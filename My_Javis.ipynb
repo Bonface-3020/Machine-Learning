{
  "nbformat": 4,
  "nbformat_minor": 0,
  "metadata": {
    "colab": {
      "provenance": [],
      "authorship_tag": "ABX9TyMPg47d2yN9EH4wetA7IT9b",
      "include_colab_link": true
    },
    "kernelspec": {
      "name": "python3",
      "display_name": "Python 3"
    },
    "language_info": {
      "name": "python"
    }
  },
  "cells": [
    {
      "cell_type": "markdown",
      "metadata": {
        "id": "view-in-github",
        "colab_type": "text"
      },
      "source": [
        "<a href=\"https://colab.research.google.com/github/Bonface-3020/Machine-Learning/blob/main/My_Javis.ipynb\" target=\"_parent\"><img src=\"https://colab.research.google.com/assets/colab-badge.svg\" alt=\"Open In Colab\"/></a>"
      ]
    },
    {
      "cell_type": "code",
      "execution_count": null,
      "metadata": {
        "id": "H66qFcy8Mx-s"
      },
      "outputs": [],
      "source": [
        "import nltk\n",
        "from nltk.chat.util import Chat,reflections\n",
        "refloctions={\n",
        "    \"i am\":\"you are\",\n",
        "    \"i was\":\"you were\",\n",
        "    \"i\":\"you\",\n",
        "    \"i'm\":\"you are\",\n",
        "    \"i'd\":\"you would\",\n",
        "    \"i've\":\"you have\",\n",
        "    \"i'll\":\"you will\",\n",
        "    \"my\":\"your\",\n",
        "    \"you are\":\"I am\",\n",
        "    \"you were\":\"I was\",\n",
        "    \"you've\":\"I have\",\n",
        "    \"you'll\":\"I will\",\n",
        "    \"your\":\"my\",\n",
        "    \"yours\":\"mine\",\n",
        "    \"you\":\"me\",\n",
        "    \"me\":\"you\"\n",
        "\n",
        "}\n",
        "\n",
        "pairs=[\n",
        "    [\n",
        "        r\"my name is (.*)\",\n",
        "        [\"Hello %1,how are you today?\",]\n",
        "    ],\n",
        "    [\n",
        "        r\"hi|hey|hello\",\n",
        "        [\"Hello\",\"hey there\",]\n",
        "    ],\n",
        "    [\n",
        "        r\"what is your name ?\",\n",
        "        [\"i am a bot created by peter, you can call be Javis!\"]\n",
        "    ],\n",
        "    [\n",
        "        r\"how are you ?\",\n",
        "        [\"I'm doing good\\nHow about you?\"]\n",
        "    ],\n",
        "    [\n",
        "        r\"sorry (.*)\",\n",
        "        [\"Its alright\",\"Its OK, never mind\"]\n",
        "    ],\n",
        "     [\n",
        "        r\"how is the weather in (.*)?\",\n",
        "        [\"The weather in %1 is awesome like always\", \"Too hot here in %1\", \"Too cold here in %1\", \"Never even heard about %1\"]\n",
        "    ],\n",
        "     [\n",
        "        r\"how (.*) health(.*)\",\n",
        "        [\"I'm a computer program, so I'm always healthy\"]\n",
        "    ],\n",
        "     [\n",
        "        r\"(.*) (sports|game) ?\",\n",
        "        [\"I'm a very big fan of football and cricket.\"]\n",
        "    ],\n",
        "]\n",
        "\n",
        "def myChat():\n",
        "  print(\"Hi! i am a chatbot created by Peter, to serve you.\")\n",
        "  chat=Chat(pairs,reflections)\n",
        "  chat.converse()\n",
        "\n",
        "if __name__==\"__main__\":\n",
        "  myChat()\n"
      ]
    }
  ]
}